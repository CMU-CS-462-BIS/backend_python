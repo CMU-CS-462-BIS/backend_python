{
 "cells": [
  {
   "cell_type": "code",
   "execution_count": 3,
   "metadata": {},
   "outputs": [
    {
     "name": "stdout",
     "output_type": "stream",
     "text": [
      "O(log n)\n"
     ]
    }
   ],
   "source": [
    "from notation_module import  notation, get_from_str\n",
    "import notation_area\n",
    "\n",
    "code_str = \"\"\"\n",
    "def linear_search(arr, target):\n",
    "    for i in range(len(arr)):\n",
    "        if arr[i] == target:\n",
    "            return i\n",
    "    return -1\n",
    "\"\"\"\n",
    "# func_name = code_str.split(\"def\")[1].split(\"(\")[0].strip()  # Get the function name\n",
    "estimated_notation = get_from_str(code_str)\n",
    "print(estimated_notation)"
   ]
  }
 ],
 "metadata": {
  "kernelspec": {
   "display_name": "Python 3",
   "language": "python",
   "name": "python3"
  },
  "language_info": {
   "codemirror_mode": {
    "name": "ipython",
    "version": 3
   },
   "file_extension": ".py",
   "mimetype": "text/x-python",
   "name": "python",
   "nbconvert_exporter": "python",
   "pygments_lexer": "ipython3",
   "version": "3.10.1"
  },
  "orig_nbformat": 4
 },
 "nbformat": 4,
 "nbformat_minor": 2
}
